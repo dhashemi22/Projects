{
 "cells": [
  {
   "cell_type": "markdown",
   "id": "b677de04",
   "metadata": {},
   "source": [
    "#### Chrystalla Havadjia, Maria Barrera Valdez, Dara Hashemi\n",
    "## Investigating likeliness of coupon used for Resutrants under 20  -  550 Project "
   ]
  },
  {
   "cell_type": "code",
   "execution_count": 1,
   "id": "ac202712",
   "metadata": {},
   "outputs": [
    {
     "name": "stdout",
     "output_type": "stream",
     "text": [
      "\u001b[H\u001b[2J"
     ]
    }
   ],
   "source": [
    "clear"
   ]
  },
  {
   "cell_type": "code",
   "execution_count": 2,
   "id": "1cea162b",
   "metadata": {},
   "outputs": [],
   "source": [
    "#libraries \n",
    "import numpy as np\n",
    "import pandas as pd\n",
    "import seaborn as sns\n",
    "from sklearn.model_selection import train_test_split\n",
    "import matplotlib.pyplot as plt"
   ]
  },
  {
   "cell_type": "code",
   "execution_count": 3,
   "id": "6bcd49eb",
   "metadata": {
    "scrolled": false
   },
   "outputs": [
    {
     "data": {
      "text/html": [
       "<div>\n",
       "<style scoped>\n",
       "    .dataframe tbody tr th:only-of-type {\n",
       "        vertical-align: middle;\n",
       "    }\n",
       "\n",
       "    .dataframe tbody tr th {\n",
       "        vertical-align: top;\n",
       "    }\n",
       "\n",
       "    .dataframe thead th {\n",
       "        text-align: right;\n",
       "    }\n",
       "</style>\n",
       "<table border=\"1\" class=\"dataframe\">\n",
       "  <thead>\n",
       "    <tr style=\"text-align: right;\">\n",
       "      <th></th>\n",
       "      <th>destination</th>\n",
       "      <th>passanger</th>\n",
       "      <th>weather</th>\n",
       "      <th>temperature</th>\n",
       "      <th>time</th>\n",
       "      <th>coupon</th>\n",
       "      <th>expiration</th>\n",
       "      <th>gender</th>\n",
       "      <th>age</th>\n",
       "      <th>maritalStatus</th>\n",
       "      <th>...</th>\n",
       "      <th>CoffeeHouse</th>\n",
       "      <th>CarryAway</th>\n",
       "      <th>RestaurantLessThan20</th>\n",
       "      <th>Restaurant20To50</th>\n",
       "      <th>toCoupon_GEQ5min</th>\n",
       "      <th>toCoupon_GEQ15min</th>\n",
       "      <th>toCoupon_GEQ25min</th>\n",
       "      <th>direction_same</th>\n",
       "      <th>direction_opp</th>\n",
       "      <th>Y</th>\n",
       "    </tr>\n",
       "  </thead>\n",
       "  <tbody>\n",
       "    <tr>\n",
       "      <th>0</th>\n",
       "      <td>No Urgent Place</td>\n",
       "      <td>Alone</td>\n",
       "      <td>Sunny</td>\n",
       "      <td>55</td>\n",
       "      <td>2PM</td>\n",
       "      <td>Restaurant(&lt;20)</td>\n",
       "      <td>1d</td>\n",
       "      <td>Female</td>\n",
       "      <td>21</td>\n",
       "      <td>Unmarried partner</td>\n",
       "      <td>...</td>\n",
       "      <td>never</td>\n",
       "      <td>NaN</td>\n",
       "      <td>4~8</td>\n",
       "      <td>1~3</td>\n",
       "      <td>1</td>\n",
       "      <td>0</td>\n",
       "      <td>0</td>\n",
       "      <td>0</td>\n",
       "      <td>1</td>\n",
       "      <td>1</td>\n",
       "    </tr>\n",
       "    <tr>\n",
       "      <th>1</th>\n",
       "      <td>No Urgent Place</td>\n",
       "      <td>Friend(s)</td>\n",
       "      <td>Sunny</td>\n",
       "      <td>80</td>\n",
       "      <td>10AM</td>\n",
       "      <td>Coffee House</td>\n",
       "      <td>2h</td>\n",
       "      <td>Female</td>\n",
       "      <td>21</td>\n",
       "      <td>Unmarried partner</td>\n",
       "      <td>...</td>\n",
       "      <td>never</td>\n",
       "      <td>NaN</td>\n",
       "      <td>4~8</td>\n",
       "      <td>1~3</td>\n",
       "      <td>1</td>\n",
       "      <td>0</td>\n",
       "      <td>0</td>\n",
       "      <td>0</td>\n",
       "      <td>1</td>\n",
       "      <td>0</td>\n",
       "    </tr>\n",
       "    <tr>\n",
       "      <th>2</th>\n",
       "      <td>No Urgent Place</td>\n",
       "      <td>Friend(s)</td>\n",
       "      <td>Sunny</td>\n",
       "      <td>80</td>\n",
       "      <td>10AM</td>\n",
       "      <td>Carry out &amp; Take away</td>\n",
       "      <td>2h</td>\n",
       "      <td>Female</td>\n",
       "      <td>21</td>\n",
       "      <td>Unmarried partner</td>\n",
       "      <td>...</td>\n",
       "      <td>never</td>\n",
       "      <td>NaN</td>\n",
       "      <td>4~8</td>\n",
       "      <td>1~3</td>\n",
       "      <td>1</td>\n",
       "      <td>1</td>\n",
       "      <td>0</td>\n",
       "      <td>0</td>\n",
       "      <td>1</td>\n",
       "      <td>1</td>\n",
       "    </tr>\n",
       "  </tbody>\n",
       "</table>\n",
       "<p>3 rows × 26 columns</p>\n",
       "</div>"
      ],
      "text/plain": [
       "       destination  passanger weather  temperature  time  \\\n",
       "0  No Urgent Place      Alone   Sunny           55   2PM   \n",
       "1  No Urgent Place  Friend(s)   Sunny           80  10AM   \n",
       "2  No Urgent Place  Friend(s)   Sunny           80  10AM   \n",
       "\n",
       "                  coupon expiration  gender age      maritalStatus  ...  \\\n",
       "0        Restaurant(<20)         1d  Female  21  Unmarried partner  ...   \n",
       "1           Coffee House         2h  Female  21  Unmarried partner  ...   \n",
       "2  Carry out & Take away         2h  Female  21  Unmarried partner  ...   \n",
       "\n",
       "   CoffeeHouse CarryAway RestaurantLessThan20 Restaurant20To50  \\\n",
       "0        never       NaN                  4~8              1~3   \n",
       "1        never       NaN                  4~8              1~3   \n",
       "2        never       NaN                  4~8              1~3   \n",
       "\n",
       "  toCoupon_GEQ5min toCoupon_GEQ15min toCoupon_GEQ25min direction_same  \\\n",
       "0                1                 0                 0              0   \n",
       "1                1                 0                 0              0   \n",
       "2                1                 1                 0              0   \n",
       "\n",
       "  direction_opp  Y  \n",
       "0             1  1  \n",
       "1             1  0  \n",
       "2             1  1  \n",
       "\n",
       "[3 rows x 26 columns]"
      ]
     },
     "execution_count": 3,
     "metadata": {},
     "output_type": "execute_result"
    }
   ],
   "source": [
    "df = pd.read_csv(r'./data_in-vehicle-coupon-recommendation.csv')\n",
    "df.head(3)"
   ]
  },
  {
   "cell_type": "markdown",
   "id": "3960c16f",
   "metadata": {},
   "source": [
    "### ---------------------------------------------------------------------------------------------------------------------------\n",
    "# Data Exploration\n",
    "#### Get the general idea of the data and what pre-processing steps will be necessary\n",
    "- General data information\n",
    "- Summary of numerical attributes\n",
    "- Understanding Features for Feature Selection"
   ]
  },
  {
   "cell_type": "code",
   "execution_count": 4,
   "id": "3e05605d",
   "metadata": {
    "scrolled": true
   },
   "outputs": [
    {
     "name": "stdout",
     "output_type": "stream",
     "text": [
      "<class 'pandas.core.frame.DataFrame'>\n",
      "RangeIndex: 12684 entries, 0 to 12683\n",
      "Data columns (total 26 columns):\n",
      " #   Column                Non-Null Count  Dtype \n",
      "---  ------                --------------  ----- \n",
      " 0   destination           12684 non-null  object\n",
      " 1   passanger             12684 non-null  object\n",
      " 2   weather               12684 non-null  object\n",
      " 3   temperature           12684 non-null  int64 \n",
      " 4   time                  12684 non-null  object\n",
      " 5   coupon                12684 non-null  object\n",
      " 6   expiration            12684 non-null  object\n",
      " 7   gender                12684 non-null  object\n",
      " 8   age                   12684 non-null  object\n",
      " 9   maritalStatus         12684 non-null  object\n",
      " 10  has_children          12684 non-null  int64 \n",
      " 11  education             12684 non-null  object\n",
      " 12  occupation            12684 non-null  object\n",
      " 13  income                12684 non-null  object\n",
      " 14  car                   108 non-null    object\n",
      " 15  Bar                   12577 non-null  object\n",
      " 16  CoffeeHouse           12467 non-null  object\n",
      " 17  CarryAway             12533 non-null  object\n",
      " 18  RestaurantLessThan20  12554 non-null  object\n",
      " 19  Restaurant20To50      12495 non-null  object\n",
      " 20  toCoupon_GEQ5min      12684 non-null  int64 \n",
      " 21  toCoupon_GEQ15min     12684 non-null  int64 \n",
      " 22  toCoupon_GEQ25min     12684 non-null  int64 \n",
      " 23  direction_same        12684 non-null  int64 \n",
      " 24  direction_opp         12684 non-null  int64 \n",
      " 25  Y                     12684 non-null  int64 \n",
      "dtypes: int64(8), object(18)\n",
      "memory usage: 2.5+ MB\n"
     ]
    }
   ],
   "source": [
    "df.info()"
   ]
  },
  {
   "cell_type": "markdown",
   "id": "18c2e877",
   "metadata": {},
   "source": [
    "### Check for missing values \n",
    " - Column with only one value add no added information\n",
    "     - toCoupon_GEQ5min\n",
    " - car has large number of missing vlaue and inconsistency in inputs with no added infomration"
   ]
  },
  {
   "cell_type": "code",
   "execution_count": 5,
   "id": "2b763c92",
   "metadata": {
    "scrolled": true
   },
   "outputs": [
    {
     "name": "stdout",
     "output_type": "stream",
     "text": [
      "destination :  False\n",
      "passanger :  False\n",
      "weather :  False\n",
      "temperature :  False\n",
      "time :  False\n",
      "coupon :  False\n",
      "expiration :  False\n",
      "gender :  False\n",
      "age :  False\n",
      "maritalStatus :  False\n",
      "has_children :  False\n",
      "education :  False\n",
      "occupation :  False\n",
      "income :  False\n",
      "car :  True\n",
      "Bar :  True\n",
      "CoffeeHouse :  True\n",
      "CarryAway :  True\n",
      "RestaurantLessThan20 :  True\n",
      "Restaurant20To50 :  True\n",
      "toCoupon_GEQ5min :  False\n",
      "toCoupon_GEQ15min :  False\n",
      "toCoupon_GEQ25min :  False\n",
      "direction_same :  False\n",
      "direction_opp :  False\n",
      "Y :  False\n"
     ]
    }
   ],
   "source": [
    "for column in df:\n",
    "    print(column, \": \", df[column].isnull().values.any())"
   ]
  },
  {
   "cell_type": "code",
   "execution_count": 6,
   "id": "a0cd3651",
   "metadata": {
    "scrolled": true
   },
   "outputs": [
    {
     "name": "stdout",
     "output_type": "stream",
     "text": [
      "No Urgent Place    6283\n",
      "Home               3237\n",
      "Work               3164\n",
      "Name: destination, dtype: int64\n",
      "______________________\n",
      "Alone        7305\n",
      "Friend(s)    3298\n",
      "Partner      1075\n",
      "Kid(s)       1006\n",
      "Name: passanger, dtype: int64\n",
      "______________________\n",
      "Sunny    10069\n",
      "Snowy     1405\n",
      "Rainy     1210\n",
      "Name: weather, dtype: int64\n",
      "______________________\n",
      "80    6528\n",
      "55    3840\n",
      "30    2316\n",
      "Name: temperature, dtype: int64\n",
      "______________________\n",
      "6PM     3230\n",
      "7AM     3164\n",
      "10AM    2275\n",
      "2PM     2009\n",
      "10PM    2006\n",
      "Name: time, dtype: int64\n",
      "______________________\n",
      "Coffee House             3996\n",
      "Restaurant(<20)          2786\n",
      "Carry out & Take away    2393\n",
      "Bar                      2017\n",
      "Restaurant(20-50)        1492\n",
      "Name: coupon, dtype: int64\n",
      "______________________\n",
      "1d    7091\n",
      "2h    5593\n",
      "Name: expiration, dtype: int64\n",
      "______________________\n",
      "Female    6511\n",
      "Male      6173\n",
      "Name: gender, dtype: int64\n",
      "______________________\n",
      "21         2653\n",
      "26         2559\n",
      "31         2039\n",
      "50plus     1788\n",
      "36         1319\n",
      "41         1093\n",
      "46          686\n",
      "below21     547\n",
      "Name: age, dtype: int64\n",
      "______________________\n",
      "Married partner      5100\n",
      "Single               4752\n",
      "Unmarried partner    2186\n",
      "Divorced              516\n",
      "Widowed               130\n",
      "Name: maritalStatus, dtype: int64\n",
      "______________________\n",
      "0    7431\n",
      "1    5253\n",
      "Name: has_children, dtype: int64\n",
      "______________________\n",
      "Some college - no degree                  4351\n",
      "Bachelors degree                          4335\n",
      "Graduate degree (Masters or Doctorate)    1852\n",
      "Associates degree                         1153\n",
      "High School Graduate                       905\n",
      "Some High School                            88\n",
      "Name: education, dtype: int64\n",
      "______________________\n",
      "Unemployed                                   1870\n",
      "Student                                      1584\n",
      "Computer & Mathematical                      1408\n",
      "Sales & Related                              1093\n",
      "Education&Training&Library                    943\n",
      "Management                                    838\n",
      "Office & Administrative Support               639\n",
      "Arts Design Entertainment Sports & Media      629\n",
      "Business & Financial                          544\n",
      "Retired                                       495\n",
      "Food Preparation & Serving Related            298\n",
      "Healthcare Practitioners & Technical          244\n",
      "Healthcare Support                            242\n",
      "Community & Social Services                   241\n",
      "Legal                                         219\n",
      "Transportation & Material Moving              218\n",
      "Architecture & Engineering                    175\n",
      "Personal Care & Service                       175\n",
      "Protective Service                            175\n",
      "Life Physical Social Science                  170\n",
      "Construction & Extraction                     154\n",
      "Installation Maintenance & Repair             133\n",
      "Production Occupations                        110\n",
      "Building & Grounds Cleaning & Maintenance      44\n",
      "Farming Fishing & Forestry                     43\n",
      "Name: occupation, dtype: int64\n",
      "______________________\n",
      "$25000 - $37499     2013\n",
      "$12500 - $24999     1831\n",
      "$37500 - $49999     1805\n",
      "$100000 or More     1736\n",
      "$50000 - $62499     1659\n",
      "Less than $12500    1042\n",
      "$87500 - $99999      895\n",
      "$75000 - $87499      857\n",
      "$62500 - $74999      846\n",
      "Name: income, dtype: int64\n",
      "______________________\n",
      "Scooter and motorcycle                      22\n",
      "Mazda5                                      22\n",
      "do not drive                                22\n",
      "crossover                                   21\n",
      "Car that is too old to install Onstar :D    21\n",
      "Name: car, dtype: int64\n",
      "______________________\n",
      "never    5197\n",
      "less1    3482\n",
      "1~3      2473\n",
      "4~8      1076\n",
      "gt8       349\n",
      "Name: Bar, dtype: int64\n",
      "______________________\n",
      "less1    3385\n",
      "1~3      3225\n",
      "never    2962\n",
      "4~8      1784\n",
      "gt8      1111\n",
      "Name: CoffeeHouse, dtype: int64\n",
      "______________________\n",
      "1~3      4672\n",
      "4~8      4258\n",
      "less1    1856\n",
      "gt8      1594\n",
      "never     153\n",
      "Name: CarryAway, dtype: int64\n",
      "______________________\n",
      "1~3      5376\n",
      "4~8      3580\n",
      "less1    2093\n",
      "gt8      1285\n",
      "never     220\n",
      "Name: RestaurantLessThan20, dtype: int64\n",
      "______________________\n",
      "less1    6077\n",
      "1~3      3290\n",
      "never    2136\n",
      "4~8       728\n",
      "gt8       264\n",
      "Name: Restaurant20To50, dtype: int64\n",
      "______________________\n",
      "1    12684\n",
      "Name: toCoupon_GEQ5min, dtype: int64\n",
      "______________________\n",
      "1    7122\n",
      "0    5562\n",
      "Name: toCoupon_GEQ15min, dtype: int64\n",
      "______________________\n",
      "0    11173\n",
      "1     1511\n",
      "Name: toCoupon_GEQ25min, dtype: int64\n",
      "______________________\n",
      "0    9960\n",
      "1    2724\n",
      "Name: direction_same, dtype: int64\n",
      "______________________\n",
      "1    9960\n",
      "0    2724\n",
      "Name: direction_opp, dtype: int64\n",
      "______________________\n",
      "1    7210\n",
      "0    5474\n",
      "Name: Y, dtype: int64\n",
      "______________________\n"
     ]
    }
   ],
   "source": [
    "for column in df:\n",
    "    print(df[column].value_counts()) \n",
    "    print(\"______________________\")"
   ]
  },
  {
   "cell_type": "markdown",
   "id": "63c597e5",
   "metadata": {},
   "source": [
    "### ---------------------------------------------------------------------------------------------------------------------------\n",
    "# Pre-processing \n",
    "- Focus on analyizing only one type of coupon - Restaurant(<20). All other coupons will be droped\n",
    "\n",
    "- Drop car and GEO5 columes as it has one attribute and will not add information to the Regression\n",
    "\n",
    "- Fill missing values for Bar, CoffeeHouse, CarryAway, RestaurantLessThan20, Restaurant20To50\n"
   ]
  },
  {
   "cell_type": "code",
   "execution_count": 7,
   "id": "64348c3f",
   "metadata": {},
   "outputs": [],
   "source": [
    "#copy dataframe to start pre-processing\n",
    "df_coupons = df.copy()"
   ]
  },
  {
   "cell_type": "code",
   "execution_count": 8,
   "id": "3e2f5a5c",
   "metadata": {},
   "outputs": [],
   "source": [
    "#drop instances where coupon was not resturant \n",
    "df_coupons.drop(df_coupons[df_coupons['coupon'] != 'Restaurant(<20)'].index, inplace = True)"
   ]
  },
  {
   "cell_type": "code",
   "execution_count": 9,
   "id": "67599c0f",
   "metadata": {},
   "outputs": [
    {
     "name": "stdout",
     "output_type": "stream",
     "text": [
      "['Restaurant(<20)']\n"
     ]
    }
   ],
   "source": [
    "#check if other coupons where dropped\n",
    "print(np.unique(df_coupons['coupon']))"
   ]
  },
  {
   "cell_type": "code",
   "execution_count": 10,
   "id": "a8571137",
   "metadata": {
    "scrolled": false
   },
   "outputs": [
    {
     "data": {
      "text/plain": [
       "1    2786\n",
       "Name: toCoupon_GEQ5min, dtype: int64"
      ]
     },
     "execution_count": 10,
     "metadata": {},
     "output_type": "execute_result"
    }
   ],
   "source": [
    "#delete columns that do not offer information or \n",
    "del df_coupons['car']   #too many missing values as identified in exploration\n",
    "\n",
    "df_coupons[\"toCoupon_GEQ5min\"].value_counts() # column only has one value no added information"
   ]
  },
  {
   "cell_type": "code",
   "execution_count": 11,
   "id": "a8502bad",
   "metadata": {
    "scrolled": true
   },
   "outputs": [
    {
     "data": {
      "text/plain": [
       "destination              0\n",
       "passanger                0\n",
       "weather                  0\n",
       "temperature              0\n",
       "time                     0\n",
       "coupon                   0\n",
       "expiration               0\n",
       "gender                   0\n",
       "age                      0\n",
       "maritalStatus            0\n",
       "has_children             0\n",
       "education                0\n",
       "occupation               0\n",
       "income                   0\n",
       "Bar                     23\n",
       "CoffeeHouse             47\n",
       "CarryAway               34\n",
       "RestaurantLessThan20    27\n",
       "Restaurant20To50        43\n",
       "toCoupon_GEQ5min         0\n",
       "toCoupon_GEQ15min        0\n",
       "toCoupon_GEQ25min        0\n",
       "direction_same           0\n",
       "direction_opp            0\n",
       "Y                        0\n",
       "dtype: int64"
      ]
     },
     "execution_count": 11,
     "metadata": {},
     "output_type": "execute_result"
    }
   ],
   "source": [
    "#identify columns with missing vlaues to fill and number of missing values\n",
    "df_coupons.isnull().sum()"
   ]
  },
  {
   "cell_type": "markdown",
   "id": "e211b079",
   "metadata": {},
   "source": [
    "### Fill missing values using the mode"
   ]
  },
  {
   "cell_type": "code",
   "execution_count": 12,
   "id": "1cb2fa2a",
   "metadata": {},
   "outputs": [],
   "source": [
    "df_coupons['RestaurantLessThan20'] = df['RestaurantLessThan20'].fillna(df['RestaurantLessThan20'].mode()[0])\n",
    "df_coupons['Bar'] = df['Bar'].fillna(df['Bar'].mode()[0])\n",
    "df_coupons['CoffeeHouse'] = df['CoffeeHouse'].fillna(df['CoffeeHouse'].mode()[0])\n",
    "df_coupons['Restaurant20To50'] = df['Restaurant20To50'].fillna(df['Restaurant20To50'].mode()[0])\n",
    "df_coupons['CarryAway'] = df['CarryAway'].fillna(df['CarryAway'].mode()[0])"
   ]
  },
  {
   "cell_type": "code",
   "execution_count": 13,
   "id": "5d454ccf",
   "metadata": {
    "scrolled": false
   },
   "outputs": [
    {
     "data": {
      "text/plain": [
       "destination             0\n",
       "passanger               0\n",
       "weather                 0\n",
       "temperature             0\n",
       "time                    0\n",
       "coupon                  0\n",
       "expiration              0\n",
       "gender                  0\n",
       "age                     0\n",
       "maritalStatus           0\n",
       "has_children            0\n",
       "education               0\n",
       "occupation              0\n",
       "income                  0\n",
       "Bar                     0\n",
       "CoffeeHouse             0\n",
       "CarryAway               0\n",
       "RestaurantLessThan20    0\n",
       "Restaurant20To50        0\n",
       "toCoupon_GEQ5min        0\n",
       "toCoupon_GEQ15min       0\n",
       "toCoupon_GEQ25min       0\n",
       "direction_same          0\n",
       "direction_opp           0\n",
       "Y                       0\n",
       "dtype: int64"
      ]
     },
     "execution_count": 13,
     "metadata": {},
     "output_type": "execute_result"
    }
   ],
   "source": [
    "#check that no missing vlaues \n",
    "df_coupons.isnull().sum()"
   ]
  },
  {
   "cell_type": "markdown",
   "id": "283a1a0a",
   "metadata": {},
   "source": [
    "### Delete redundant columns such as one of the paired dummy variable columns of direcition"
   ]
  },
  {
   "cell_type": "code",
   "execution_count": 14,
   "id": "7365786a",
   "metadata": {},
   "outputs": [],
   "source": [
    "del df_coupons['direction_opp']     #offers no addisitonal information - same as direct_same\n",
    "del df_coupons['toCoupon_GEQ5min']  #only one value - no additional information\n",
    "del df_coupons['coupon']            #no further information added since single coupon is selected"
   ]
  },
  {
   "cell_type": "markdown",
   "id": "99999699",
   "metadata": {},
   "source": [
    "### --------------------------------------------------------------------------------------------------------------------------- \n",
    "## Vizualization of data "
   ]
  },
  {
   "cell_type": "code",
   "execution_count": 15,
   "id": "3828477e",
   "metadata": {
    "scrolled": true
   },
   "outputs": [
    {
     "data": {
      "image/png": "[encoded data removed]",
      "text/plain": [
       "<Figure size 432x288 with 1 Axes>"
      ]
     },
     "metadata": {
      "needs_background": "light"
     },
     "output_type": "display_data"
    },
    {
     "data": {
      "image/png": "[encoded data removed]",
      "text/plain": [
       "<Figure size 432x288 with 1 Axes>"
      ]
     },
     "metadata": {
      "needs_background": "light"
     },
     "output_type": "display_data"
    },
    {
     "data": {
      "image/png": "[encoded data removed]",
      "text/plain": [
       "<Figure size 432x288 with 1 Axes>"
      ]
     },
     "metadata": {
      "needs_background": "light"
     },
     "output_type": "display_data"
    },
    {
     "data": {
      "image/png": "[encoded data removed]",
      "text/plain": [
       "<Figure size 432x288 with 1 Axes>"
      ]
     },
     "metadata": {
      "needs_background": "light"
     },
     "output_type": "display_data"
    },
    {
     "data": {
      "image/png": "[encoded data removed]",
      "text/plain": [
       "<Figure size 432x288 with 1 Axes>"
      ]
     },
     "metadata": {
      "needs_background": "light"
     },
     "output_type": "display_data"
    },
    {
     "data": {
      "image/png": "[encoded data removed]",
      "text/plain": [
       "<Figure size 432x288 with 1 Axes>"
      ]
     },
     "metadata": {
      "needs_background": "light"
     },
     "output_type": "display_data"
    },
    {
     "data": {
      "image/png": "[encoded data removed]",
      "text/plain": [
       "<Figure size 432x288 with 1 Axes>"
      ]
     },
     "metadata": {
      "needs_background": "light"
     },
     "output_type": "display_data"
    },
    {
     "data": {
      "image/png": "[encoded data removed]",
      "text/plain": [
       "<Figure size 432x288 with 1 Axes>"
      ]
     },
     "metadata": {
      "needs_background": "light"
     },
     "output_type": "display_data"
    },
    {
     "data": {
      "image/png": "[encoded data removed]",
      "text/plain": [
       "<Figure size 432x288 with 1 Axes>"
      ]
     },
     "metadata": {
      "needs_background": "light"
     },
     "output_type": "display_data"
    },
    {
     "data": {
      "image/png": "[encoded data removed]",
      "text/plain": [
       "<Figure size 432x288 with 1 Axes>"
      ]
     },
     "metadata": {
      "needs_background": "light"
     },
     "output_type": "display_data"
    },
    {
     "data": {
      "image/png": "[encoded data removed]",
      "text/plain": [
       "<Figure size 432x288 with 1 Axes>"
      ]
     },
     "metadata": {
      "needs_background": "light"
     },
     "output_type": "display_data"
    },
    {
     "data": {
      "image/png": "[encoded data removed]",
      "text/plain": [
       "<Figure size 432x288 with 1 Axes>"
      ]
     },
     "metadata": {
      "needs_background": "light"
     },
     "output_type": "display_data"
    },
    {
     "data": {
      "image/png": "[encoded data removed]",
      "text/plain": [
       "<Figure size 432x288 with 1 Axes>"
      ]
     },
     "metadata": {
      "needs_background": "light"
     },
     "output_type": "display_data"
    },
    {
     "data": {
      "image/png": "[encoded data removed]",
      "text/plain": [
       "<Figure size 432x288 with 1 Axes>"
      ]
     },
     "metadata": {
      "needs_background": "light"
     },
     "output_type": "display_data"
    },
    {
     "data": {
      "image/png": "[encoded data removed]",
      "text/plain": [
       "<Figure size 432x288 with 1 Axes>"
      ]
     },
     "metadata": {
      "needs_background": "light"
     },
     "output_type": "display_data"
    },
    {
     "data": {
      "image/png": "[encoded data removed]",
      "text/plain": [
       "<Figure size 432x288 with 1 Axes>"
      ]
     },
     "metadata": {
      "needs_background": "light"
     },
     "output_type": "display_data"
    },
    {
     "data": {
      "image/png": "[encoded data removed]",
      "text/plain": [
       "<Figure size 432x288 with 1 Axes>"
      ]
     },
     "metadata": {
      "needs_background": "light"
     },
     "output_type": "display_data"
    },
    {
     "data": {
      "image/png": "[encoded data removed]",
      "text/plain": [
       "<Figure size 432x288 with 1 Axes>"
      ]
     },
     "metadata": {
      "needs_background": "light"
     },
     "output_type": "display_data"
    },
    {
     "data": {
      "image/png": "[encoded data removed]",
      "text/plain": [
       "<Figure size 432x288 with 1 Axes>"
      ]
     },
     "metadata": {
      "needs_background": "light"
     },
     "output_type": "display_data"
    },
    {
     "data": {
      "image/png": "[encoded data removed]",
      "text/plain": [
       "<Figure size 432x288 with 1 Axes>"
      ]
     },
     "metadata": {
      "needs_background": "light"
     },
     "output_type": "display_data"
    },
    {
     "data": {
      "image/png": "[encoded data removed]",
      "text/plain": [
       "<Figure size 432x288 with 1 Axes>"
      ]
     },
     "metadata": {
      "needs_background": "light"
     },
     "output_type": "display_data"
    },
    {
     "data": {
      "image/png": "[encoded data removed]",
      "text/plain": [
       "<Figure size 432x288 with 1 Axes>"
      ]
     },
     "metadata": {
      "needs_background": "light"
     },
     "output_type": "display_data"
    }
   ],
   "source": [
    "for column in df_coupons:\n",
    "    sns.countplot(x=column, data=df_coupons)\n",
    "    plt.xticks(rotation=90)\n",
    "    plt.show()"
   ]
  },
  {
   "cell_type": "code",
   "execution_count": 16,
   "id": "9f9cbf24",
   "metadata": {},
   "outputs": [
    {
     "data": {
      "text/plain": [
       "Text(0.5, 0, 'Number of instances')"
      ]
     },
     "execution_count": 16,
     "metadata": {},
     "output_type": "execute_result"
    },
    {
     "data": {
      "image/png": "[encoded data removed]",
      "text/plain": [
       "<Figure size 432x288 with 1 Axes>"
      ]
     },
     "metadata": {
      "needs_background": "light"
     },
     "output_type": "display_data"
    }
   ],
   "source": [
    "y = \"RestaurantLessThan20\"\n",
    "ax = df_coupons[y].value_counts().sort_values().plot(kind=\"barh\",label='index',fontsize=13)\n",
    "totals= []\n",
    "for i in ax.patches:\n",
    "    totals.append(i.get_width())\n",
    "total = sum(totals)\n",
    "for i in ax.patches:\n",
    "     ax.text(i.get_width()+.3, i.get_y()+.20, \n",
    "     str(round((i.get_width()/total)*100))+'%', \n",
    "     fontsize=10, color='black')\n",
    "ax.set_title('Restaurant Less Than',\n",
    "             fontsize=15, color='black')\n",
    "ax.set_ylabel('Frequency of visits',fontsize=13)\n",
    "ax.set_xlabel('Number of instances',fontsize=13)"
   ]
  },
  {
   "cell_type": "markdown",
   "id": "4d8d3c96",
   "metadata": {},
   "source": [
    "### --------------------------------------------------------------------------------------------------------------------------- \n",
    "## Feature Engineering \n",
    "### Determine which features are most important \n",
    "- Chi-Squared Test of Independence in R was used to find independant variables \n",
    "- Use correlation for feature selection"
   ]
  },
  {
   "cell_type": "code",
   "execution_count": 17,
   "id": "a6b3d5ee",
   "metadata": {
    "scrolled": true
   },
   "outputs": [],
   "source": [
    "#Feature engineering chosen using chi square\n",
    "#delete features that are not strongly correlated to where the customer accepted of declined the coupon\n",
    "del df_coupons['maritalStatus']\n",
    "del df_coupons['has_children']\n",
    "del df_coupons['education']\n",
    "del df_coupons['occupation']\n",
    "del df_coupons['CarryAway']\n",
    "del df_coupons['Bar']\n",
    "del df_coupons['toCoupon_GEQ15min']\n",
    "del df_coupons['income']\n",
    "del df_coupons['age']"
   ]
  },
  {
   "cell_type": "code",
   "execution_count": 18,
   "id": "0eea7bcc",
   "metadata": {
    "scrolled": false
   },
   "outputs": [
    {
     "data": {
      "text/html": [
       "<div>\n",
       "<style scoped>\n",
       "    .dataframe tbody tr th:only-of-type {\n",
       "        vertical-align: middle;\n",
       "    }\n",
       "\n",
       "    .dataframe tbody tr th {\n",
       "        vertical-align: top;\n",
       "    }\n",
       "\n",
       "    .dataframe thead th {\n",
       "        text-align: right;\n",
       "    }\n",
       "</style>\n",
       "<table border=\"1\" class=\"dataframe\">\n",
       "  <thead>\n",
       "    <tr style=\"text-align: right;\">\n",
       "      <th></th>\n",
       "      <th>destination</th>\n",
       "      <th>passanger</th>\n",
       "      <th>weather</th>\n",
       "      <th>temperature</th>\n",
       "      <th>time</th>\n",
       "      <th>expiration</th>\n",
       "      <th>gender</th>\n",
       "      <th>CoffeeHouse</th>\n",
       "      <th>RestaurantLessThan20</th>\n",
       "      <th>Restaurant20To50</th>\n",
       "      <th>toCoupon_GEQ25min</th>\n",
       "      <th>direction_same</th>\n",
       "      <th>Y</th>\n",
       "    </tr>\n",
       "  </thead>\n",
       "  <tbody>\n",
       "    <tr>\n",
       "      <th>0</th>\n",
       "      <td>No Urgent Place</td>\n",
       "      <td>Alone</td>\n",
       "      <td>Sunny</td>\n",
       "      <td>55</td>\n",
       "      <td>2PM</td>\n",
       "      <td>1d</td>\n",
       "      <td>Female</td>\n",
       "      <td>never</td>\n",
       "      <td>4~8</td>\n",
       "      <td>1~3</td>\n",
       "      <td>0</td>\n",
       "      <td>0</td>\n",
       "      <td>1</td>\n",
       "    </tr>\n",
       "    <tr>\n",
       "      <th>5</th>\n",
       "      <td>No Urgent Place</td>\n",
       "      <td>Friend(s)</td>\n",
       "      <td>Sunny</td>\n",
       "      <td>80</td>\n",
       "      <td>6PM</td>\n",
       "      <td>2h</td>\n",
       "      <td>Female</td>\n",
       "      <td>never</td>\n",
       "      <td>4~8</td>\n",
       "      <td>1~3</td>\n",
       "      <td>0</td>\n",
       "      <td>0</td>\n",
       "      <td>1</td>\n",
       "    </tr>\n",
       "    <tr>\n",
       "      <th>7</th>\n",
       "      <td>No Urgent Place</td>\n",
       "      <td>Kid(s)</td>\n",
       "      <td>Sunny</td>\n",
       "      <td>80</td>\n",
       "      <td>10AM</td>\n",
       "      <td>2h</td>\n",
       "      <td>Female</td>\n",
       "      <td>never</td>\n",
       "      <td>4~8</td>\n",
       "      <td>1~3</td>\n",
       "      <td>0</td>\n",
       "      <td>0</td>\n",
       "      <td>1</td>\n",
       "    </tr>\n",
       "  </tbody>\n",
       "</table>\n",
       "</div>"
      ],
      "text/plain": [
       "       destination  passanger weather  temperature  time expiration  gender  \\\n",
       "0  No Urgent Place      Alone   Sunny           55   2PM         1d  Female   \n",
       "5  No Urgent Place  Friend(s)   Sunny           80   6PM         2h  Female   \n",
       "7  No Urgent Place     Kid(s)   Sunny           80  10AM         2h  Female   \n",
       "\n",
       "  CoffeeHouse RestaurantLessThan20 Restaurant20To50  toCoupon_GEQ25min  \\\n",
       "0       never                  4~8              1~3                  0   \n",
       "5       never                  4~8              1~3                  0   \n",
       "7       never                  4~8              1~3                  0   \n",
       "\n",
       "   direction_same  Y  \n",
       "0               0  1  \n",
       "5               0  1  \n",
       "7               0  1  "
      ]
     },
     "execution_count": 18,
     "metadata": {},
     "output_type": "execute_result"
    }
   ],
   "source": [
    "df_coupons.head(3)"
   ]
  },
  {
   "cell_type": "markdown",
   "id": "154d91cf",
   "metadata": {},
   "source": [
    "### Map remaing features from categorical to numerical dummy variables for easier analysis"
   ]
  },
  {
   "cell_type": "code",
   "execution_count": 19,
   "id": "0140bc7e",
   "metadata": {},
   "outputs": [
    {
     "data": {
      "text/plain": [
       "1~3      1184\n",
       "4~8       800\n",
       "less1     460\n",
       "gt8       288\n",
       "never      54\n",
       "Name: RestaurantLessThan20, dtype: int64"
      ]
     },
     "execution_count": 19,
     "metadata": {},
     "output_type": "execute_result"
    }
   ],
   "source": [
    "df_coupons[\"RestaurantLessThan20\"].value_counts() "
   ]
  },
  {
   "cell_type": "code",
   "execution_count": 20,
   "id": "7e2a80f7",
   "metadata": {},
   "outputs": [],
   "source": [
    "mapping = {'No Urgent Place': 0, 'Work': 1, 'Home':2 , 'Alone': 0, 'Friend(s)': 1, 'Kid(s)':2, 'Partner':3,\n",
    "          'Sunny': 0, 'Snowy': 1, 'Rainy':2,'6PM': 18, '2PM': 14, '7AM':7 , '10PM': 22, '10AM' : 10}\n",
    "df_coupons = df_coupons.replace({'destination': mapping, 'passanger': mapping,'weather': mapping,'time': mapping})\n",
    "\n",
    "mapping = {'6PM': 18, '2PM': 14, '7AM':7 , '10PM': 22, '10AM' : 10, '1d': 24 , '2h':2, 'Female':0,'Male':1,\n",
    "          'never':0,'less1':1,'1~3':3,'4~8':8, 'gt8':9,'50plus':50, 'below21':20}\n",
    "\n",
    "df_coupons = df_coupons.replace({'time': mapping, 'expiration': mapping, 'gender':mapping, \n",
    "                               'RestaurantLessThan20':mapping, 'Restaurant20To50':mapping, \n",
    "                               'CoffeeHouse':mapping, 'age':mapping, 'Bar':mapping, 'CarryAway':mapping})\n"
   ]
  },
  {
   "cell_type": "markdown",
   "id": "edd91f6b",
   "metadata": {},
   "source": [
    "### Investigate correlations between each variable and price\n",
    " - Drop features with correlation less than +/- 0.18"
   ]
  },
  {
   "cell_type": "code",
   "execution_count": 21,
   "id": "432d310e",
   "metadata": {
    "scrolled": false
   },
   "outputs": [
    {
     "data": {
      "text/plain": [
       "Y                       1.000000\n",
       "expiration              0.266024\n",
       "temperature             0.181211\n",
       "passanger               0.111463\n",
       "RestaurantLessThan20    0.049759\n",
       "gender                  0.023349\n",
       "Restaurant20To50        0.018488\n",
       "time                    0.016102\n",
       "CoffeeHouse            -0.003477\n",
       "direction_same         -0.075862\n",
       "destination            -0.225543\n",
       "weather                -0.269678\n",
       "toCoupon_GEQ25min      -0.296467\n",
       "Name: Y, dtype: float64"
      ]
     },
     "execution_count": 21,
     "metadata": {},
     "output_type": "execute_result"
    }
   ],
   "source": [
    "corr_matrix = df_coupons.corr()\n",
    "corr_matrix['Y'].sort_values(ascending = False)"
   ]
  },
  {
   "cell_type": "code",
   "execution_count": 22,
   "id": "0f222050",
   "metadata": {
    "scrolled": true
   },
   "outputs": [],
   "source": [
    "def drop_uncorr_feat(corr_matrix,df,dep_colum,r): \n",
    "\n",
    "    \"\"\" Takes correlation Matrix as input\n",
    "        \n",
    "         Returns uncorrelated featurs\n",
    "    \"\"\"\n",
    "    \n",
    "    #drop uncorrelated columns \n",
    "    col_names_corr = corr_matrix[dep_colum].index\n",
    "\n",
    "    i=0\n",
    "    drop_col = []\n",
    "\n",
    "    #deremine columns to be droped\n",
    "    for row in corr_matrix[dep_colum]:\n",
    "        if  (-r < row < r):\n",
    "            drop_col.append(col_names_corr[i])\n",
    "        i+=1\n",
    "\n",
    "    return drop_col\n",
    "    \n",
    "    \n",
    "drop_col = drop_uncorr_feat(corr_matrix,df,'Y',0.18)\n",
    "\n",
    "for i in range(len(drop_col)):\n",
    "     del df_coupons[drop_col[i]]"
   ]
  },
  {
   "cell_type": "code",
   "execution_count": 23,
   "id": "4f661b63",
   "metadata": {
    "scrolled": false
   },
   "outputs": [
    {
     "data": {
      "text/plain": [
       "Text(0.5, 1.0, 'Correlaiton Matrix')"
      ]
     },
     "execution_count": 23,
     "metadata": {},
     "output_type": "execute_result"
    },
    {
     "data": {
      "image/png": "[encoded data removed]",
      "text/plain": [
       "<Figure size 432x288 with 2 Axes>"
      ]
     },
     "metadata": {
      "needs_background": "light"
     },
     "output_type": "display_data"
    }
   ],
   "source": [
    "sns.heatmap(corr_matrix,cmap=\"summer\")\n",
    "plt.title('Correlaiton Matrix')"
   ]
  },
  {
   "cell_type": "code",
   "execution_count": 24,
   "id": "181695ac",
   "metadata": {
    "scrolled": true
   },
   "outputs": [
    {
     "data": {
      "text/plain": [
       "Index(['destination', 'weather', 'temperature', 'expiration',\n",
       "       'toCoupon_GEQ25min', 'Y'],\n",
       "      dtype='object')"
      ]
     },
     "execution_count": 24,
     "metadata": {},
     "output_type": "execute_result"
    }
   ],
   "source": [
    "# Most correlated features with coupon acceptaqnce\n",
    "df_coupons.columns"
   ]
  },
  {
   "cell_type": "markdown",
   "id": "026c598b",
   "metadata": {},
   "source": [
    "### --------------------------------------------------------------------------------------------------------------------------- \n",
    "## Analysis - Logistic Regression"
   ]
  },
  {
   "cell_type": "markdown",
   "id": "ae6f8cd8",
   "metadata": {},
   "source": [
    "### Split, train data "
   ]
  },
  {
   "cell_type": "code",
   "execution_count": 25,
   "id": "0f94c0fd",
   "metadata": {},
   "outputs": [],
   "source": [
    "y = df_coupons['Y'].copy()#dependant variable\n",
    "X = df_coupons.copy() #independant variables\n",
    "del X['Y']"
   ]
  },
  {
   "cell_type": "code",
   "execution_count": 26,
   "id": "fb15b25a",
   "metadata": {},
   "outputs": [],
   "source": [
    "#Split dataset into train and test using \n",
    "random_state = 2\n",
    "X_train, X_test, y_train, y_test = train_test_split(X, y, test_size=0.3, random_state= random_state, shuffle=True)"
   ]
  },
  {
   "cell_type": "markdown",
   "id": "ebad7512",
   "metadata": {},
   "source": [
    "## Fit Model -  LogisticRegresion"
   ]
  },
  {
   "cell_type": "code",
   "execution_count": 27,
   "id": "30c1e339",
   "metadata": {},
   "outputs": [],
   "source": [
    "from sklearn.model_selection import KFold\n",
    "from sklearn.model_selection import cross_val_score\n",
    "\n",
    "def get_cross_val(model, X, y):\n",
    "    \"\"\"\n",
    "      cross validation: split data into kfolds to validate model\n",
    "    \n",
    "      Outputs: computes accuracy for each fold \n",
    "    \"\"\"\n",
    "    \n",
    "    kf = KFold(shuffle=True, n_splits=3, random_state= random_state)\n",
    "    \n",
    "    acc = cross_val_score(model, X, y, \n",
    "                             scoring=\"accuracy\", cv=kf)\n",
    "    f1 = cross_val_score(model, X, y, \n",
    "                             scoring=\"f1\", cv=kf)\n",
    "    acc = acc.mean()\n",
    "    print('Cross Validation Mean Accuracy: {0:.2f}'.format(acc * 100.0))\n",
    "    f1 = f1.mean()\n",
    "    print('Cross Validation Mean F1-score: {0:.2f}'.format(f1 * 100.0))"
   ]
  },
  {
   "cell_type": "code",
   "execution_count": 28,
   "id": "0247c385",
   "metadata": {
    "scrolled": false
   },
   "outputs": [
    {
     "name": "stdout",
     "output_type": "stream",
     "text": [
      "--- Evaluation ---\n",
      " LogisticRegression(C=1)\n",
      "Cross Validation Mean Accuracy: 74.28\n",
      "Cross Validation Mean F1-score: 83.54\n",
      "\n",
      "Classification Report:\n",
      "              precision    recall  f1-score   support\n",
      "\n",
      "           0       0.60      0.34      0.44       241\n",
      "           1       0.77      0.91      0.83       595\n",
      "\n",
      "    accuracy                           0.74       836\n",
      "   macro avg       0.69      0.63      0.64       836\n",
      "weighted avg       0.72      0.74      0.72       836\n",
      "\n",
      "Confusion Matrix:\n",
      "[[ 83 158]\n",
      " [ 56 539]]\n"
     ]
    },
    {
     "data": {
      "text/plain": [
       "Text(0.5, 1.0, 'Confusion Matrix - Logistic Regression')"
      ]
     },
     "execution_count": 28,
     "metadata": {},
     "output_type": "execute_result"
    },
    {
     "data": {
      "image/png": "[encoded data removed]",
      "text/plain": [
       "<Figure size 432x288 with 2 Axes>"
      ]
     },
     "metadata": {
      "needs_background": "light"
     },
     "output_type": "display_data"
    }
   ],
   "source": [
    "from sklearn.linear_model import LogisticRegression\n",
    "from sklearn.metrics import classification_report, confusion_matrix\n",
    "\n",
    "#train model\n",
    "log_reg = LogisticRegression(C=1).fit(X_train, y_train)\n",
    "y_pred = log_reg.predict(X_test)\n",
    "\n",
    "    # Evaluate on test data\n",
    "print(\"--- Evaluation ---\\n\", log_reg)\n",
    "get_cross_val(log_reg,X_test, y_test)\n",
    "print()\n",
    "print('Classification Report:')\n",
    "print(classification_report(y_test, y_pred))\n",
    "print('Confusion Matrix:')\n",
    "print(confusion_matrix(y_test, y_pred))\n",
    "\n",
    "cf_matrix = confusion_matrix(y_test, y_pred)\n",
    "#print(\"\\nTest confusion_matrix\")\n",
    "sns.heatmap(cf_matrix, annot=True, cmap='Blues',fmt='g')\n",
    "plt.xlabel('Predicted', fontsize=12)\n",
    "plt.ylabel('True', fontsize=12)\n",
    "plt.title('Confusion Matrix - Logistic Regression')"
   ]
  },
  {
   "cell_type": "markdown",
   "id": "53019193",
   "metadata": {},
   "source": [
    "### Test for overfitting \n",
    "- fit train data and test for accuracy, if accuracy is alot higher for training data then test data then there is a risk of overfitting"
   ]
  },
  {
   "cell_type": "code",
   "execution_count": 29,
   "id": "5bc3be1b",
   "metadata": {},
   "outputs": [
    {
     "name": "stdout",
     "output_type": "stream",
     "text": [
      "--- Evaluation ---\n",
      " LogisticRegression(C=1)\n",
      "Cross Validation Mean Accuracy: 75.79\n",
      "Cross Validation Mean F1-score: 84.65\n",
      "\n",
      "Classification Report:\n",
      "              precision    recall  f1-score   support\n",
      "\n",
      "           0       0.71      0.31      0.43       575\n",
      "           1       0.77      0.95      0.85      1375\n",
      "\n",
      "    accuracy                           0.76      1950\n",
      "   macro avg       0.74      0.63      0.64      1950\n",
      "weighted avg       0.75      0.76      0.72      1950\n",
      "\n"
     ]
    }
   ],
   "source": [
    "#train model\n",
    "log_reg = LogisticRegression(C=1).fit(X_train, y_train)\n",
    "y_pred = log_reg.predict(X_train)\n",
    "\n",
    "    # Evaluate on test data\n",
    "print(\"--- Evaluation ---\\n\", log_reg)\n",
    "get_cross_val(log_reg,X_train, y_train)\n",
    "print()\n",
    "print('Classification Report:')\n",
    "print(classification_report(y_train, y_pred))\n"
   ]
  },
  {
   "cell_type": "markdown",
   "id": "d6dc8542",
   "metadata": {},
   "source": [
    "  ## Baseline model test for comparison - Zero Rate Classifier\n",
    "  - Model should predit better than baseline model\n",
    "  - Models should have better than 71% accuracy\n"
   ]
  },
  {
   "cell_type": "code",
   "execution_count": 30,
   "id": "407cdb6e",
   "metadata": {
    "scrolled": true
   },
   "outputs": [
    {
     "data": {
      "text/plain": [
       "1    1970\n",
       "0     816\n",
       "Name: Y, dtype: int64"
      ]
     },
     "execution_count": 30,
     "metadata": {},
     "output_type": "execute_result"
    }
   ],
   "source": [
    "df_coupons['Y'].value_counts()"
   ]
  },
  {
   "cell_type": "code",
   "execution_count": 31,
   "id": "bf824170",
   "metadata": {},
   "outputs": [],
   "source": [
    "#Change variable names for vizualizaiton purpuses\n",
    "df_coupons['Y'] = df_coupons['Y'].replace([0],'Denied')\n",
    "df_coupons['Y'] = df_coupons['Y'].replace([1],'Accepted')"
   ]
  },
  {
   "cell_type": "code",
   "execution_count": 32,
   "id": "506dc3c3",
   "metadata": {},
   "outputs": [
    {
     "data": {
      "text/plain": [
       "Text(0.5, 1.0, 'Baseline Model: Coupons Accepted/Denied Percentage')"
      ]
     },
     "execution_count": 32,
     "metadata": {},
     "output_type": "execute_result"
    },
    {
     "data": {
      "image/png": "[encoded data removed]",
      "text/plain": [
       "<Figure size 432x288 with 1 Axes>"
      ]
     },
     "metadata": {
      "needs_background": "light"
     },
     "output_type": "display_data"
    }
   ],
   "source": [
    "y = \"Y\"\n",
    "ax = df_coupons[y].value_counts().sort_values().plot(kind=\"barh\",label='index',fontsize=13)\n",
    "totals= []\n",
    "for i in ax.patches:\n",
    "    totals.append(i.get_width())\n",
    "total = sum(totals)\n",
    "for i in ax.patches:\n",
    "     ax.text(i.get_width()+.3, i.get_y()+.20, \n",
    "     str(round((i.get_width()/total)*100))+'%', \n",
    "     fontsize=10, color='black')\n",
    "ax.set_title('Baseline Model: Coupons Accepted/Denied Percentage', fontsize=13, color='black')\n"
   ]
  },
  {
   "cell_type": "code",
   "execution_count": null,
   "id": "442f1225",
   "metadata": {},
   "outputs": [],
   "source": []
  }
 ],
 "metadata": {
  "kernelspec": {
   "display_name": "Python 3 (ipykernel)",
   "language": "python",
   "name": "python3"
  },
  "language_info": {
   "codemirror_mode": {
    "name": "ipython",
    "version": 3
   },
   "file_extension": ".py",
   "mimetype": "text/x-python",
   "name": "python",
   "nbconvert_exporter": "python",
   "pygments_lexer": "ipython3",
   "version": "3.9.7"
  }
 },
 "nbformat": 4,
 "nbformat_minor": 5
}
